{
  "nbformat": 4,
  "nbformat_minor": 0,
  "metadata": {
    "colab": {
      "name": "SimilarMusicians.ipynb",
      "provenance": [],
      "collapsed_sections": [
        "pW3rUBYpFJGT"
      ],
      "toc_visible": true
    },
    "kernelspec": {
      "name": "python3",
      "display_name": "Python 3"
    },
    "accelerator": "GPU"
  },
  "cells": [
    {
      "cell_type": "code",
      "metadata": {
        "id": "LnbrT5q6KKO7",
        "colab_type": "code",
        "colab": {
          "base_uri": "https://localhost:8080/",
          "height": 122
        },
        "outputId": "730499c0-3f92-4bbe-8f67-2bfb2be733b9"
      },
      "source": [
        "from google.colab import drive\n",
        "drive.mount('/content/drive')"
      ],
      "execution_count": 1,
      "outputs": [
        {
          "output_type": "stream",
          "text": [
            "Go to this URL in a browser: https://accounts.google.com/o/oauth2/auth?client_id=947318989803-6bn6qk8qdgf4n4g3pfee6491hc0brc4i.apps.googleusercontent.com&redirect_uri=urn%3aietf%3awg%3aoauth%3a2.0%3aoob&response_type=code&scope=email%20https%3a%2f%2fwww.googleapis.com%2fauth%2fdocs.test%20https%3a%2f%2fwww.googleapis.com%2fauth%2fdrive%20https%3a%2f%2fwww.googleapis.com%2fauth%2fdrive.photos.readonly%20https%3a%2f%2fwww.googleapis.com%2fauth%2fpeopleapi.readonly\n",
            "\n",
            "Enter your authorization code:\n",
            "··········\n",
            "Mounted at /content/drive\n"
          ],
          "name": "stdout"
        }
      ]
    },
    {
      "cell_type": "markdown",
      "metadata": {
        "id": "JrLEaNwsyc_J",
        "colab_type": "text"
      },
      "source": [
        "Подготовим данные. Избавимся от лишних столбцов и строк"
      ]
    },
    {
      "cell_type": "code",
      "metadata": {
        "id": "eHTCctYUyqnr",
        "colab_type": "code",
        "colab": {}
      },
      "source": [
        "import pandas as pd\n",
        "import json"
      ],
      "execution_count": 3,
      "outputs": []
    },
    {
      "cell_type": "code",
      "metadata": {
        "id": "Y1B2kK0M-ZXn",
        "colab_type": "code",
        "colab": {
          "base_uri": "https://localhost:8080/",
          "height": 419
        },
        "outputId": "dac5a019-9588-4d98-e4c1-89a0f8ea9e12"
      },
      "source": [
        "sessionsDF = pd.read_csv('/content/drive/My Drive/Colab Notebooks/SimilarMusicians/data/relations/sessions.idomaar', sep=\"\\t\", header=None)\n",
        "\n",
        "sessionsDF.drop([0,1,2], axis = 1, inplace = True)\n",
        "sessionsDF.drop(sessionsDF.tail(2000000).index, inplace = True)\n",
        "\n",
        "\n",
        "sessionsDF[3] = pd.Series(map(lambda s: list(map(lambda k : k['id'] ,json.loads(('[' + s + ']').replace('} ', '},'))[1]['objects'])), sessionsDF[3]))\n",
        "sessionsDF.drop(sessionsDF[sessionsDF[3].map(len) < 6].index, inplace = True)\n",
        "sessionsDF.drop(sessionsDF[sessionsDF[3].map(len) > 10].index, inplace = True)\n",
        "\n",
        "\n",
        "sessionsDF\n"
      ],
      "execution_count": 4,
      "outputs": [
        {
          "output_type": "execute_result",
          "data": {
            "text/html": [
              "<div>\n",
              "<style scoped>\n",
              "    .dataframe tbody tr th:only-of-type {\n",
              "        vertical-align: middle;\n",
              "    }\n",
              "\n",
              "    .dataframe tbody tr th {\n",
              "        vertical-align: top;\n",
              "    }\n",
              "\n",
              "    .dataframe thead th {\n",
              "        text-align: right;\n",
              "    }\n",
              "</style>\n",
              "<table border=\"1\" class=\"dataframe\">\n",
              "  <thead>\n",
              "    <tr style=\"text-align: right;\">\n",
              "      <th></th>\n",
              "      <th>3</th>\n",
              "    </tr>\n",
              "  </thead>\n",
              "  <tbody>\n",
              "    <tr>\n",
              "      <th>7</th>\n",
              "      <td>[150645, 150616, 657838, 3208711, 466151, 1539...</td>\n",
              "    </tr>\n",
              "    <tr>\n",
              "      <th>9</th>\n",
              "      <td>[3779365, 338599, 3214594, 3477941, 3678228, 5...</td>\n",
              "    </tr>\n",
              "    <tr>\n",
              "      <th>15</th>\n",
              "      <td>[549667, 549673, 3848461, 1632002, 1632005, 44...</td>\n",
              "    </tr>\n",
              "    <tr>\n",
              "      <th>17</th>\n",
              "      <td>[2942161, 2942215, 2942143, 2942029, 2942051, ...</td>\n",
              "    </tr>\n",
              "    <tr>\n",
              "      <th>29</th>\n",
              "      <td>[2554273, 133135, 1519407, 2311961, 2343670, 2...</td>\n",
              "    </tr>\n",
              "    <tr>\n",
              "      <th>...</th>\n",
              "      <td>...</td>\n",
              "    </tr>\n",
              "    <tr>\n",
              "      <th>764431</th>\n",
              "      <td>[2143404, 3358746, 3358746, 1559247, 1559160, ...</td>\n",
              "    </tr>\n",
              "    <tr>\n",
              "      <th>764434</th>\n",
              "      <td>[59930, 60079, 60224, 60171, 60058, 60002, 601...</td>\n",
              "    </tr>\n",
              "    <tr>\n",
              "      <th>764436</th>\n",
              "      <td>[800770, 800769, 800760, 800773, 800751, 80077...</td>\n",
              "    </tr>\n",
              "    <tr>\n",
              "      <th>764448</th>\n",
              "      <td>[3164059, 3164067, 3164056, 3164069, 3164048, ...</td>\n",
              "    </tr>\n",
              "    <tr>\n",
              "      <th>764454</th>\n",
              "      <td>[2619606, 331544, 1189539, 422467, 661386, 183...</td>\n",
              "    </tr>\n",
              "  </tbody>\n",
              "</table>\n",
              "<p>147693 rows × 1 columns</p>\n",
              "</div>"
            ],
            "text/plain": [
              "                                                        3\n",
              "7       [150645, 150616, 657838, 3208711, 466151, 1539...\n",
              "9       [3779365, 338599, 3214594, 3477941, 3678228, 5...\n",
              "15      [549667, 549673, 3848461, 1632002, 1632005, 44...\n",
              "17      [2942161, 2942215, 2942143, 2942029, 2942051, ...\n",
              "29      [2554273, 133135, 1519407, 2311961, 2343670, 2...\n",
              "...                                                   ...\n",
              "764431  [2143404, 3358746, 3358746, 1559247, 1559160, ...\n",
              "764434  [59930, 60079, 60224, 60171, 60058, 60002, 601...\n",
              "764436  [800770, 800769, 800760, 800773, 800751, 80077...\n",
              "764448  [3164059, 3164067, 3164056, 3164069, 3164048, ...\n",
              "764454  [2619606, 331544, 1189539, 422467, 661386, 183...\n",
              "\n",
              "[147693 rows x 1 columns]"
            ]
          },
          "metadata": {
            "tags": []
          },
          "execution_count": 4
        }
      ]
    },
    {
      "cell_type": "code",
      "metadata": {
        "id": "-YtC48cmS486",
        "colab_type": "code",
        "colab": {
          "base_uri": "https://localhost:8080/",
          "height": 450
        },
        "outputId": "9ec50382-6db0-4735-969d-c8f941f0bebf"
      },
      "source": [
        "personsDF = pd.read_csv('/content/drive/My Drive/Colab Notebooks/SimilarMusicians/data/entities/persons.idomaar', sep=\"\\t\", header=None)\n",
        "\n",
        "personsDF['name'] = pd.Series(map(lambda s: json.loads(s)['name'], personsDF[3]))\n",
        "\n",
        "personsDF.drop([0,2,3,4], axis=1, inplace=True)\n",
        "personsDF.rename(columns={1:'ID'},inplace=True)\n",
        "personsDF.set_index('ID',inplace=True)\n",
        "\n",
        "personsDF.sort_values(by=['ID'], inplace=True)\n",
        "personsDF = personsDF[~personsDF.index.duplicated()]\n",
        "personsDF"
      ],
      "execution_count": 5,
      "outputs": [
        {
          "output_type": "execute_result",
          "data": {
            "text/html": [
              "<div>\n",
              "<style scoped>\n",
              "    .dataframe tbody tr th:only-of-type {\n",
              "        vertical-align: middle;\n",
              "    }\n",
              "\n",
              "    .dataframe tbody tr th {\n",
              "        vertical-align: top;\n",
              "    }\n",
              "\n",
              "    .dataframe thead th {\n",
              "        text-align: right;\n",
              "    }\n",
              "</style>\n",
              "<table border=\"1\" class=\"dataframe\">\n",
              "  <thead>\n",
              "    <tr style=\"text-align: right;\">\n",
              "      <th></th>\n",
              "      <th>name</th>\n",
              "    </tr>\n",
              "    <tr>\n",
              "      <th>ID</th>\n",
              "      <th></th>\n",
              "    </tr>\n",
              "  </thead>\n",
              "  <tbody>\n",
              "    <tr>\n",
              "      <th>0</th>\n",
              "      <td>000003+Music+Instructor</td>\n",
              "    </tr>\n",
              "    <tr>\n",
              "      <th>1</th>\n",
              "      <td>00-01</td>\n",
              "    </tr>\n",
              "    <tr>\n",
              "      <th>2</th>\n",
              "      <td>0005.+Overkill</td>\n",
              "    </tr>\n",
              "    <tr>\n",
              "      <th>3</th>\n",
              "      <td>000C+Tony+Dize</td>\n",
              "    </tr>\n",
              "    <tr>\n",
              "      <th>4</th>\n",
              "      <td>000+Oscarcito</td>\n",
              "    </tr>\n",
              "    <tr>\n",
              "      <th>...</th>\n",
              "      <td>...</td>\n",
              "    </tr>\n",
              "    <tr>\n",
              "      <th>595136</th>\n",
              "      <td>Kwajbasket+&amp;+Gimu</td>\n",
              "    </tr>\n",
              "    <tr>\n",
              "      <th>595137</th>\n",
              "      <td>David+Granha+&amp;+John+Axion</td>\n",
              "    </tr>\n",
              "    <tr>\n",
              "      <th>595138</th>\n",
              "      <td>Tam+Cooper,+Will+Saul</td>\n",
              "    </tr>\n",
              "    <tr>\n",
              "      <th>595139</th>\n",
              "      <td>Cousin+Silas+&amp;+LPF12</td>\n",
              "    </tr>\n",
              "    <tr>\n",
              "      <th>595140</th>\n",
              "      <td>The+Dwindlers</td>\n",
              "    </tr>\n",
              "  </tbody>\n",
              "</table>\n",
              "<p>560927 rows × 1 columns</p>\n",
              "</div>"
            ],
            "text/plain": [
              "                             name\n",
              "ID                               \n",
              "0         000003+Music+Instructor\n",
              "1                           00-01\n",
              "2                  0005.+Overkill\n",
              "3                  000C+Tony+Dize\n",
              "4                   000+Oscarcito\n",
              "...                           ...\n",
              "595136          Kwajbasket+&+Gimu\n",
              "595137  David+Granha+&+John+Axion\n",
              "595138      Tam+Cooper,+Will+Saul\n",
              "595139       Cousin+Silas+&+LPF12\n",
              "595140              The+Dwindlers\n",
              "\n",
              "[560927 rows x 1 columns]"
            ]
          },
          "metadata": {
            "tags": []
          },
          "execution_count": 5
        }
      ]
    },
    {
      "cell_type": "code",
      "metadata": {
        "id": "9RZgtZwDYZKJ",
        "colab_type": "code",
        "colab": {
          "base_uri": "https://localhost:8080/",
          "height": 450
        },
        "outputId": "a316e95c-767f-404c-8465-31df21404fff"
      },
      "source": [
        "tracksDF = pd.read_csv('/content/drive/My Drive/Colab Notebooks/SimilarMusicians/data/entities/tracks.idomaar', sep=\"\\t\", header=None)\n",
        "\n",
        "tracksDF.drop_duplicates(keep='first',inplace=True) \n",
        "tracksDF = tracksDF.reset_index(drop=True)\n",
        "\n",
        "\n",
        "tracksDF['name'] = pd.Series(map(lambda s: json.loads(s)['name'], tracksDF[3]))\n",
        "tracksDF['playcount'] = pd.Series(map(lambda s: json.loads(s)['playcount'], tracksDF[3]))\n",
        "\n",
        "tracksDF['artists'] = pd.Series(map(lambda s: json.loads(s)['artists'], tracksDF[4]))\n",
        "tracksDF['albums'] = pd.Series(map(lambda s: json.loads(s)['albums'], tracksDF[4]))\n",
        "tracksDF['tags'] = pd.Series(map(lambda s: json.loads(s)['tags'], tracksDF[4]))\n",
        "tracksDF['artist_id'] = pd.Series(map(lambda s: s[0]['id'], tracksDF['artists']))\n",
        "\n",
        "tracksDF.drop([0,2,3,4], axis=1, inplace=True)\n",
        "tracksDF.rename(columns={1:'ID'},inplace=True)\n",
        "tracksDF.set_index('ID', inplace = True)\n",
        "\n",
        "tracksDF.sort_values(by=['ID'], inplace=True)\n",
        "# tracksDF = tracksDF.drop(tracksDF[tracksDF.playcount.isnull() == True].index)\n",
        "tracksDF.drop(['playcount','albums','tags','artists','name'], axis=1, inplace=True)\n",
        "# tracksDF.drop_duplicates(keep='first',inplace=True) \n",
        "tracksDF = tracksDF[~tracksDF.index.duplicated()]\n",
        "\n",
        "\n",
        "tracksDF\n"
      ],
      "execution_count": 7,
      "outputs": [
        {
          "output_type": "execute_result",
          "data": {
            "text/html": [
              "<div>\n",
              "<style scoped>\n",
              "    .dataframe tbody tr th:only-of-type {\n",
              "        vertical-align: middle;\n",
              "    }\n",
              "\n",
              "    .dataframe tbody tr th {\n",
              "        vertical-align: top;\n",
              "    }\n",
              "\n",
              "    .dataframe thead th {\n",
              "        text-align: right;\n",
              "    }\n",
              "</style>\n",
              "<table border=\"1\" class=\"dataframe\">\n",
              "  <thead>\n",
              "    <tr style=\"text-align: right;\">\n",
              "      <th></th>\n",
              "      <th>artist_id</th>\n",
              "    </tr>\n",
              "    <tr>\n",
              "      <th>ID</th>\n",
              "      <th></th>\n",
              "    </tr>\n",
              "  </thead>\n",
              "  <tbody>\n",
              "    <tr>\n",
              "      <th>0</th>\n",
              "      <td>0</td>\n",
              "    </tr>\n",
              "    <tr>\n",
              "      <th>1</th>\n",
              "      <td>1</td>\n",
              "    </tr>\n",
              "    <tr>\n",
              "      <th>2</th>\n",
              "      <td>2</td>\n",
              "    </tr>\n",
              "    <tr>\n",
              "      <th>3</th>\n",
              "      <td>3</td>\n",
              "    </tr>\n",
              "    <tr>\n",
              "      <th>4</th>\n",
              "      <td>4</td>\n",
              "    </tr>\n",
              "    <tr>\n",
              "      <th>...</th>\n",
              "      <td>...</td>\n",
              "    </tr>\n",
              "    <tr>\n",
              "      <th>5023104</th>\n",
              "      <td>595139</td>\n",
              "    </tr>\n",
              "    <tr>\n",
              "      <th>5023105</th>\n",
              "      <td>187223</td>\n",
              "    </tr>\n",
              "    <tr>\n",
              "      <th>5023106</th>\n",
              "      <td>595140</td>\n",
              "    </tr>\n",
              "    <tr>\n",
              "      <th>5023107</th>\n",
              "      <td>549669</td>\n",
              "    </tr>\n",
              "    <tr>\n",
              "      <th>5023108</th>\n",
              "      <td>272336</td>\n",
              "    </tr>\n",
              "  </tbody>\n",
              "</table>\n",
              "<p>4519105 rows × 1 columns</p>\n",
              "</div>"
            ],
            "text/plain": [
              "         artist_id\n",
              "ID                \n",
              "0                0\n",
              "1                1\n",
              "2                2\n",
              "3                3\n",
              "4                4\n",
              "...            ...\n",
              "5023104     595139\n",
              "5023105     187223\n",
              "5023106     595140\n",
              "5023107     549669\n",
              "5023108     272336\n",
              "\n",
              "[4519105 rows x 1 columns]"
            ]
          },
          "metadata": {
            "tags": []
          },
          "execution_count": 7
        }
      ]
    },
    {
      "cell_type": "code",
      "metadata": {
        "id": "gtoKkRAP0EZ6",
        "colab_type": "code",
        "colab": {}
      },
      "source": [
        "def tracks_to_artists(session):\n",
        "  artists = []\n",
        "  for i in session:\n",
        "    artists.append(tracksDF.loc[i].artist_id)\n",
        "\n",
        "  return list(dict.fromkeys(artists))\n",
        "\n",
        "\n",
        "sessionsDF['artists'] = pd.Series(map(lambda s: tracks_to_artists(s) , sessionsDF[3]))\n",
        "sessionsDF = sessionsDF[(sessionsDF.artists.isnull() == False)][sessionsDF[(sessionsDF.artists.isnull() == False)].artists.map(len) > 2]"
      ],
      "execution_count": 8,
      "outputs": []
    },
    {
      "cell_type": "markdown",
      "metadata": {
        "id": "bW6gBHSFy1rL",
        "colab_type": "text"
      },
      "source": [
        "Из полученных датафреймов составим датасет"
      ]
    },
    {
      "cell_type": "code",
      "metadata": {
        "id": "XJF5CBqfAEWR",
        "colab_type": "code",
        "colab": {}
      },
      "source": [
        "import torch\n",
        "import torch.nn as nn\n",
        "import torch.optim as optim\n",
        "from torch.utils.data import Dataset\n"
      ],
      "execution_count": 10,
      "outputs": []
    },
    {
      "cell_type": "code",
      "metadata": {
        "id": "Mn6H-Zt5_4J-",
        "colab_type": "code",
        "colab": {
          "base_uri": "https://localhost:8080/",
          "height": 221
        },
        "outputId": "55dbb66b-391f-4389-82f1-01501b35f857"
      },
      "source": [
        "import random\n",
        "\n",
        "class ArtistsNegativeSampling(Dataset):\n",
        "\n",
        "  def __init__(self, data, num_negative_samples, num_contexts=30000):\n",
        "\n",
        "    self.data = data\n",
        "    self.num_negative_samples = int(num_negative_samples)\n",
        "    self.num_contexts = num_contexts\n",
        "    self.num_tokens = personsDF.count()\n",
        "    self.samples = None\n",
        "\n",
        "  \n",
        "  def generate_dataset(self):\n",
        "    \n",
        "    self.samples = []\n",
        "    for i in range(self.num_contexts):\n",
        "      for j, artist in enumerate(self.data.iloc[i]):\n",
        "        for k in range(-2,3):\n",
        "          if ((j+k >= 0)&(j+k<len(self.data.iloc[i]))&(k!=0)):\n",
        "            sample = [artist, self.data.iloc[i][j+k]]\n",
        "            self.samples.append(sample)\n",
        "\n",
        "\n",
        "  def __len__(self):\n",
        "    return len(self.samples)\n",
        "\n",
        "  \n",
        "  def __getitem__(self, index):\n",
        "    \n",
        "    target_index = self.samples[index][1]\n",
        "    input_vector = self.samples[index][0]\n",
        "    output_indices = torch.Tensor(random.sample(list(personsDF.index), self.num_negative_samples + 1))\n",
        "    output_indices[0] = target_index\n",
        "    output_target = torch.zeros(self.num_negative_samples + 1, dtype=torch.float32)\n",
        "    output_target[0] = 1\n",
        "\n",
        "    return (input_vector, output_indices, output_target)\n",
        "        \n",
        "\n",
        "dataset = ArtistsNegativeSampling(sessionsDF.artists,10,14000)\n",
        "dataset.data"
      ],
      "execution_count": 20,
      "outputs": [
        {
          "output_type": "execute_result",
          "data": {
            "text/plain": [
              "9                          [251758, 203788, 182910, 374201]\n",
              "29        [53365, 54845, 369388, 18734, 240211, 305894, ...\n",
              "35         [403228, 463053, 381263, 337804, 381710, 151838]\n",
              "50         [174751, 153172, 152893, 148130, 123312, 420441]\n",
              "64                           [84317, 313408, 86627, 191633]\n",
              "                                ...                        \n",
              "147636    [224085, 208629, 102735, 191173, 17608, 87334,...\n",
              "147641                       [60557, 467679, 191173, 81215]\n",
              "147650    [266242, 285932, 307718, 242068, 71903, 229135...\n",
              "147652    [94077, 372203, 269536, 457713, 242522, 185676...\n",
              "147656                              [254457, 79948, 210841]\n",
              "Name: artists, Length: 14841, dtype: object"
            ]
          },
          "metadata": {
            "tags": []
          },
          "execution_count": 20
        }
      ]
    },
    {
      "cell_type": "code",
      "metadata": {
        "id": "NGbNm3c0Ykwk",
        "colab_type": "code",
        "colab": {}
      },
      "source": [
        "dataset.generate_dataset()"
      ],
      "execution_count": 21,
      "outputs": []
    },
    {
      "cell_type": "markdown",
      "metadata": {
        "id": "ps06RcXQzTl8",
        "colab_type": "text"
      },
      "source": [
        "Задаем модель"
      ]
    },
    {
      "cell_type": "code",
      "metadata": {
        "id": "lvaWO7VFxSRD",
        "colab_type": "code",
        "colab": {
          "base_uri": "https://localhost:8080/",
          "height": 85
        },
        "outputId": "f57279a3-0c5d-4735-9bab-875424bfe2ce"
      },
      "source": [
        "num_tokens = personsDF.index[-1]\n",
        "\n",
        "\n",
        "class ArtistsNegativeSamples(nn.Module):\n",
        "    def __init__(self, num_tokens):\n",
        "        super(ArtistsNegativeSamples, self).__init__()\n",
        "        self.input = nn.Linear(num_tokens, 100, bias=False)\n",
        "        self.output = nn.Linear(100, num_tokens, bias=False)\n",
        "        \n",
        "    def forward(self, input_index_batch, output_indices_batch):\n",
        "        \n",
        "        results = []\n",
        "\n",
        "        for i, index in enumerate(input_index_batch):\n",
        "          output_indices = output_indices_batch[i].long()\n",
        "          pred = torch.mv(self.output.weight[output_indices,:],self.input.weight[:,index])\n",
        "          results.append(pred)\n",
        "\n",
        "        return torch.stack(results)\n",
        "\n",
        "nn_model = ArtistsNegativeSamples(num_tokens)\n",
        "nn_model.type(torch.FloatTensor)"
      ],
      "execution_count": 22,
      "outputs": [
        {
          "output_type": "execute_result",
          "data": {
            "text/plain": [
              "ArtistsNegativeSamples(\n",
              "  (input): Linear(in_features=595140, out_features=100, bias=False)\n",
              "  (output): Linear(in_features=100, out_features=595140, bias=False)\n",
              ")"
            ]
          },
          "metadata": {
            "tags": []
          },
          "execution_count": 22
        }
      ]
    },
    {
      "cell_type": "markdown",
      "metadata": {
        "id": "htv7Hqm0ziH9",
        "colab_type": "text"
      },
      "source": [
        "Функция тренировки"
      ]
    },
    {
      "cell_type": "code",
      "metadata": {
        "id": "Qe5YMLK0zEbK",
        "colab_type": "code",
        "colab": {}
      },
      "source": [
        "def train_neg_sample(model, dataset, train_loader, optimizer, scheduler, num_epochs):    \n",
        "    model = model.to(device)\n",
        "    \n",
        "    loss = nn.BCEWithLogitsLoss().type(torch.FloatTensor)\n",
        "    loss_history = []\n",
        "    train_history = []\n",
        "    for epoch in range(num_epochs):\n",
        "        if scheduler:\n",
        "            scheduler.step()\n",
        "            \n",
        "        model.train() \n",
        "        loss_accum = 0\n",
        "        correct_samples = 0\n",
        "        total_samples = 0\n",
        "        \n",
        "        \n",
        "        dataset.generate_dataset()\n",
        "        \n",
        "        \n",
        "        for i_step, (input_vector, output_indices, output_target) in enumerate(train_loader):\n",
        "          print(i_step)\n",
        "          prediction = model(input_vector.to(device), output_indices.to(device))\n",
        "          loss_value = loss(prediction.to(device).float(), output_target.to(device).float())\n",
        "          \n",
        "          optimizer.zero_grad()\n",
        "          loss_value.backward()\n",
        "          optimizer.step()\n",
        "          \n",
        "          correct_samples += torch.sum((prediction>0) == output_target.byte().to(device))\n",
        "          total_samples += 1\n",
        "          \n",
        "          loss_accum += loss_value\n",
        "\n",
        "        ave_loss = loss_accum / (i_step + 1)\n",
        "        train_accuracy = float(correct_samples) / total_samples   \n",
        "        \n",
        "        loss_history.append(float(ave_loss))\n",
        "        train_history.append(train_accuracy)\n",
        "        \n",
        "        print(\"Average loss: %f, Train accuracy: %f\" % (ave_loss, train_accuracy))\n",
        "        \n",
        "    return loss_history, train_history"
      ],
      "execution_count": 26,
      "outputs": []
    },
    {
      "cell_type": "code",
      "metadata": {
        "id": "73AsoOLKzGW1",
        "colab_type": "code",
        "colab": {
          "base_uri": "https://localhost:8080/",
          "height": 85
        },
        "outputId": "b6e950e2-da12-4e3b-f643-59810037463d"
      },
      "source": [
        "device = torch.device(\"cuda\")\n",
        "nn_model.to(device)"
      ],
      "execution_count": 27,
      "outputs": [
        {
          "output_type": "execute_result",
          "data": {
            "text/plain": [
              "ArtistsNegativeSamples(\n",
              "  (input): Linear(in_features=595140, out_features=100, bias=False)\n",
              "  (output): Linear(in_features=100, out_features=595140, bias=False)\n",
              ")"
            ]
          },
          "metadata": {
            "tags": []
          },
          "execution_count": 27
        }
      ]
    },
    {
      "cell_type": "markdown",
      "metadata": {
        "id": "-8n0SdSHzrZ1",
        "colab_type": "text"
      },
      "source": [
        "Тренировка"
      ]
    },
    {
      "cell_type": "code",
      "metadata": {
        "id": "u6-NG2Uw0hCF",
        "colab_type": "code",
        "colab": {}
      },
      "source": [
        "optimizer = optim.Adam(nn_model.parameters(), lr=30)\n",
        "scheduler = optim.lr_scheduler.StepLR(optimizer, step_size=10, gamma=0.1)\n",
        "\n",
        "train_loader = torch.utils.data.DataLoader(dataset, batch_size=1000)\n",
        "\n",
        "loss_history, train_history = train_neg_sample(nn_model, dataset, train_loader, optimizer, scheduler, 1)"
      ],
      "execution_count": null,
      "outputs": []
    },
    {
      "cell_type": "markdown",
      "metadata": {
        "id": "H0b-dC-TzvZZ",
        "colab_type": "text"
      },
      "source": [
        "Достаем полученные ембедденги"
      ]
    },
    {
      "cell_type": "code",
      "metadata": {
        "id": "UQPfVmoCKuis",
        "colab_type": "code",
        "colab": {
          "base_uri": "https://localhost:8080/",
          "height": 85
        },
        "outputId": "e10ad237-b168-4ea8-8d5b-20aea1aca431"
      },
      "source": [
        "nn_model.eval()"
      ],
      "execution_count": 32,
      "outputs": [
        {
          "output_type": "execute_result",
          "data": {
            "text/plain": [
              "ArtistsNegativeSamples(\n",
              "  (input): Linear(in_features=595140, out_features=100, bias=False)\n",
              "  (output): Linear(in_features=100, out_features=595140, bias=False)\n",
              ")"
            ]
          },
          "metadata": {
            "tags": []
          },
          "execution_count": 32
        }
      ]
    },
    {
      "cell_type": "code",
      "metadata": {
        "id": "eF42TyQNK4Gg",
        "colab_type": "code",
        "colab": {}
      },
      "source": [
        "def extract_word_vectors(nn_model):\n",
        "  return nn_model.input.weight.transpose(0, 1), nn_model.output.weight"
      ],
      "execution_count": 36,
      "outputs": []
    },
    {
      "cell_type": "code",
      "metadata": {
        "id": "kXvkuaf0Ln6B",
        "colab_type": "code",
        "colab": {}
      },
      "source": [
        "trained_input_vectors, trained_output_vectors = extract_word_vectors(nn_model)"
      ],
      "execution_count": 37,
      "outputs": []
    },
    {
      "cell_type": "code",
      "metadata": {
        "id": "yK1DBNq9n8rV",
        "colab_type": "code",
        "colab": {}
      },
      "source": [
        "full_vectors = trained_input_vectors + trained_output_vectors"
      ],
      "execution_count": 192,
      "outputs": []
    },
    {
      "cell_type": "markdown",
      "metadata": {
        "id": "NLvn5uvsz_fJ",
        "colab_type": "text"
      },
      "source": [
        "Находим похожих артистов"
      ]
    },
    {
      "cell_type": "code",
      "metadata": {
        "id": "TG1GNNLeRmTD",
        "colab_type": "code",
        "colab": {}
      },
      "source": [
        "def sim_matrix(a, b, eps=1e-8):\n",
        "    a_n, b_n = a.norm(dim=1)[:, None], b.norm(dim=1)[:, None]\n",
        "    a_norm = a / torch.max(a_n, eps * torch.ones_like(a_n))\n",
        "    b_norm = b / torch.max(b_n, eps * torch.ones_like(b_n))\n",
        "    sim_mt = torch.mm(a_norm, b_norm.transpose(0, 1))\n",
        "    return sim_mt"
      ],
      "execution_count": 74,
      "outputs": []
    },
    {
      "cell_type": "code",
      "metadata": {
        "id": "kSB0FsaKa4OA",
        "colab_type": "code",
        "colab": {}
      },
      "source": [
        "def findSimilarArtist(artist):\n",
        "\n",
        "  similarNamesIndexes = personsDF[personsDF['name'].str.contains(artist)].index\n",
        "  similarNamesVector = full_vectors[similarNamesIndexes].mean(0)\n",
        "\n",
        "  simMatrix = sim_matrix(similarNamesVector.unsqueeze_(0),full_vectors)\n",
        "  top20plus = torch.topk(simMatrix,len(similarNamesIndexes)+20).indices.squeeze(0)\n",
        "\n",
        "  for i in similarNamesIndexes:\n",
        "    top20plus = top20plus[top20plus != i]\n",
        "  \n",
        "  finalArtists = []\n",
        "  top20plus = top20plus.cpu().tolist()\n",
        "  \n",
        "  for i in range(10):\n",
        "\n",
        "    finalArtists.append(personsDF.loc[top20plus[i]]['name'])\n",
        "\n",
        "  return finalArtists\n",
        "\n"
      ],
      "execution_count": 205,
      "outputs": []
    },
    {
      "cell_type": "code",
      "metadata": {
        "id": "0zBzRkhgitPM",
        "colab_type": "code",
        "colab": {
          "base_uri": "https://localhost:8080/",
          "height": 187
        },
        "outputId": "933305e2-3be7-48e8-c6ae-7eb669502dd7"
      },
      "source": [
        "findSimilarArtist('AC/DC')"
      ],
      "execution_count": 213,
      "outputs": [
        {
          "output_type": "execute_result",
          "data": {
            "text/plain": [
              "['003',\n",
              " '002+%D0%98.%D0%9A%D1%83%D1%87%D0%B8%D0%BD',\n",
              " '002+Cari+Jodoh',\n",
              " '002C+Omega+El+Fuerte',\n",
              " '00-01',\n",
              " '000003+Music+Instructor',\n",
              " '0005.+Overkill',\n",
              " '000C+Tony+Dize',\n",
              " '001_Ariya',\n",
              " '001+Amber+Gomez']"
            ]
          },
          "metadata": {
            "tags": []
          },
          "execution_count": 213
        }
      ]
    },
    {
      "cell_type": "code",
      "metadata": {
        "id": "jEKBgK5gPQWh",
        "colab_type": "code",
        "colab": {
          "base_uri": "https://localhost:8080/",
          "height": 187
        },
        "outputId": "74ed876d-a8a7-431a-f7fe-da84d6da6a34"
      },
      "source": [
        "findSimilarArtist('Drake')"
      ],
      "execution_count": 216,
      "outputs": [
        {
          "output_type": "execute_result",
          "data": {
            "text/plain": [
              "['Space_Ci',\n",
              " 'DJ+Feel-X',\n",
              " 'Sunshine+State',\n",
              " 'Nina+letar+Ufo',\n",
              " 'Upside+Down+Miss+Jane',\n",
              " 'Carlos+Kleiber',\n",
              " 'Minerale',\n",
              " 'Ynfl-X',\n",
              " 'Emile+de+Becque',\n",
              " 'Fallen+Rule']"
            ]
          },
          "metadata": {
            "tags": []
          },
          "execution_count": 216
        }
      ]
    }
  ]
}